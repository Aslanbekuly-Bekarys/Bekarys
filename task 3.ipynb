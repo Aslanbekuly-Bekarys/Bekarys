{
 "cells": [
  {
   "cell_type": "code",
   "execution_count": 1,
   "metadata": {},
   "outputs": [
    {
     "name": "stdout",
     "output_type": "stream",
     "text": [
      "aBAcAba\n",
      ".b.c.b.\n"
     ]
    }
   ],
   "source": [
    "#1\n",
    "def rem_vowel(a): \n",
    "    vowels = ('a', 'e', 'i', 'o', 'u')  \n",
    "    for x in a.lower(): \n",
    "        if x in vowels: \n",
    "            a = a.replace(x, \".\") \n",
    "              \n",
    "    print(a) \n",
    "b=input(str())\n",
    "a=b.lower()\n",
    "rem_vowel(a) "
   ]
  },
  {
   "cell_type": "code",
   "execution_count": 13,
   "metadata": {
    "scrolled": true
   },
   "outputs": [
    {
     "name": "stdout",
     "output_type": "stream",
     "text": [
      " 1+2+1+1\n",
      "1+1+1+2\n"
     ]
    }
   ],
   "source": [
    "#2\n",
    "def summation(equation: str) -> str:\n",
    "    \"\"\"Sort elements in ascending order.\"\"\"\n",
    "    \n",
    "    operands = equation.split(\"+\")\n",
    "    operands = sorted(operands)\n",
    "    \n",
    "    sorted_equation = \"+\".join([str(i) for i in operands])\n",
    "    \n",
    "    return sorted_equation\n",
    "print(summation(input(\" \")))"
   ]
  },
  {
   "cell_type": "code",
   "execution_count": 5,
   "metadata": {},
   "outputs": [
    {
     "name": "stdout",
     "output_type": "stream",
     "text": [
      "konjac\n",
      "Konjac\n"
     ]
    }
   ],
   "source": [
    "#3\n",
    "def upperfirst(x):\n",
    "    i = 1\n",
    "    return x[:i].upper() + x[i:]\n",
    "\n",
    "x = input(str())\n",
    "\n",
    "y = upperfirst(x)\n",
    "\n",
    "print(y)"
   ]
  },
  {
   "cell_type": "code",
   "execution_count": 14,
   "metadata": {},
   "outputs": [
    {
     "name": "stdout",
     "output_type": "stream",
     "text": [
      " 100000001\n",
      "YES\n"
     ]
    }
   ],
   "source": [
    "#4\n",
    "def is_dangerous(positions: str) -> str:\n",
    "    \"\"\"Determine if situation is dangerous or not.\"\"\"\n",
    "    \n",
    "    cx = 1\n",
    "    pred = positions[0]\n",
    "    for i in positions[1:]:\n",
    "        if i == pred:\n",
    "            cx += 1\n",
    "        pred = i\n",
    "        if cx >= 7:\n",
    "            return \"YES\"\n",
    "        \n",
    "    return \"NO\"\n",
    "print(is_dangerous(input(\" \")))"
   ]
  },
  {
   "cell_type": "code",
   "execution_count": 10,
   "metadata": {},
   "outputs": [
    {
     "name": "stdout",
     "output_type": "stream",
     "text": [
      "wjmzbmr\n",
      "CHAT WITH HER!\n"
     ]
    }
   ],
   "source": [
    "#5\n",
    "name = set(input())\n",
    "if len(name) % 2 == 0:\n",
    "    print(\"CHAT WITH HER!\")\n",
    "else:\n",
    "    print(\"IGNORE HIM!\")"
   ]
  },
  {
   "cell_type": "code",
   "execution_count": 17,
   "metadata": {},
   "outputs": [
    {
     "name": "stdout",
     "output_type": "stream",
     "text": [
      "HoUse\n",
      "house\n"
     ]
    }
   ],
   "source": [
    "#6\n",
    "a=input()\n",
    "cnt1 = 0\n",
    "cnt2 = 0\n",
    "for i in range(0, len(a)):\n",
    "    if a[i].isupper():\n",
    "        cnt1 += 1\n",
    "    elif a[i].islower():\n",
    "        cnt2 += 1\n",
    "\n",
    "if cnt1 > cnt2:\n",
    "    print(a.upper())\n",
    "else:\n",
    "    print(a.lower())"
   ]
  },
  {
   "cell_type": "code",
   "execution_count": 32,
   "metadata": {},
   "outputs": [
    {
     "name": "stdout",
     "output_type": "stream",
     "text": [
      "35\n",
      "TheQuickBrownFoxJumpsOverTheLazyDog\n",
      "YES\n"
     ]
    }
   ],
   "source": [
    "#7\n",
    "num = int(input())\n",
    "word = str(input())\n",
    "cnt = 0\n",
    "word = word.lower()\n",
    "res = ''.join(sorted(word))\n",
    "for i in range(0, num-1):\n",
    "    if res[i] != res[i+1]:\n",
    "        cnt += 1     \n",
    "if cnt == 25:\n",
    "    print(\"YES\")\n",
    "else:\n",
    "    print(\"NO\")"
   ]
  },
  {
   "cell_type": "code",
   "execution_count": 25,
   "metadata": {},
   "outputs": [
    {
     "name": "stdout",
     "output_type": "stream",
     "text": [
      "code\n",
      "code\n",
      "NO\n"
     ]
    }
   ],
   "source": [
    "#8\n",
    "a = input()\n",
    "b = input()\n",
    "\n",
    "if a == b[::-1]:\n",
    "    print(\"YES\")\n",
    "else:\n",
    "    print(\"NO\")"
   ]
  },
  {
   "cell_type": "code",
   "execution_count": 24,
   "metadata": {},
   "outputs": [
    {
     "name": "stdout",
     "output_type": "stream",
     "text": [
      "7\n",
      "DDDAADA\n",
      "Danik\n"
     ]
    }
   ],
   "source": [
    "#9\n",
    "num = int(input())\n",
    "a = input()\n",
    "Anton = 0\n",
    "Danik = 0\n",
    "\n",
    "for i in range(n):\n",
    "    if a[i] == 'A':\n",
    "        Anton += 1\n",
    "    else:\n",
    "        Danik += 1\n",
    "        \n",
    "if Anton>Danik:\n",
    "    print(\"Anton\")\n",
    "elif Anton<Danik:\n",
    "    print(\"Danik\")\n",
    "else:\n",
    "    print(\"Friendship\")"
   ]
  },
  {
   "cell_type": "code",
   "execution_count": 21,
   "metadata": {},
   "outputs": [
    {
     "name": "stdout",
     "output_type": "stream",
     "text": [
      "cAPS\n",
      "Caps\n"
     ]
    }
   ],
   "source": [
    "#10\n",
    "b=input(str())\n",
    "a=b.capitalize()\n",
    "print(a)"
   ]
  },
  {
   "cell_type": "code",
   "execution_count": 36,
   "metadata": {},
   "outputs": [
    {
     "name": "stdout",
     "output_type": "stream",
     "text": [
      "10\n",
      "nznooeeoer\n",
      "1\n",
      "1\n",
      "0\n"
     ]
    }
   ],
   "source": [
    "#11\n",
    "num = int(input())\n",
    "word = input()\n",
    "\n",
    "for i in range(num):\n",
    "    if word[i] == 'n':\n",
    "        print(\"1\")\n",
    "        \n",
    "for i in range(num):\n",
    "    if word[i] == 'z':\n",
    "        print(\"0\")"
   ]
  },
  {
   "cell_type": "code",
   "execution_count": 20,
   "metadata": {},
   "outputs": [
    {
     "name": "stdout",
     "output_type": "stream",
     "text": [
      "5\n",
      "xx0xx\n",
      "0\n"
     ]
    }
   ],
   "source": [
    "#12\n",
    "length = int(input())\n",
    "name = input()\n",
    "\n",
    "cnt = 0\n",
    "a = 0\n",
    "\n",
    "for i in range(length):\n",
    "    if(name[i] == \"x\"):\n",
    "        cnt += 1\n",
    "        if cnt > 2:\n",
    "            a += 1\n",
    "    else: \n",
    "        cnt = 0\n",
    "        \n",
    "print(a)"
   ]
  }
 ],
 "metadata": {
  "kernelspec": {
   "display_name": "Python 3",
   "language": "python",
   "name": "python3"
  },
  "language_info": {
   "codemirror_mode": {
    "name": "ipython",
    "version": 3
   },
   "file_extension": ".py",
   "mimetype": "text/x-python",
   "name": "python",
   "nbconvert_exporter": "python",
   "pygments_lexer": "ipython3",
   "version": "3.7.4"
  }
 },
 "nbformat": 4,
 "nbformat_minor": 2
}
